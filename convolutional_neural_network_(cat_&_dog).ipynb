{
  "nbformat": 4,
  "nbformat_minor": 0,
  "metadata": {
    "colab": {
      "name": "convolutional_neural_network (cat & dog).ipynb",
      "provenance": [],
      "collapsed_sections": [],
      "toc_visible": true
    },
    "kernelspec": {
      "display_name": "Python 3",
      "language": "python",
      "name": "python3"
    },
    "language_info": {
      "codemirror_mode": {
        "name": "ipython",
        "version": 3
      },
      "file_extension": ".py",
      "mimetype": "text/x-python",
      "name": "python",
      "nbconvert_exporter": "python",
      "pygments_lexer": "ipython3",
      "version": "3.8.3"
    }
  },
  "cells": [
    {
      "cell_type": "markdown",
      "metadata": {
        "id": "3DR-eO17geWu"
      },
      "source": [
        "# Convolutional Neural Network"
      ]
    },
    {
      "cell_type": "markdown",
      "metadata": {
        "id": "EMefrVPCg-60"
      },
      "source": [
        "### Importing the libraries"
      ]
    },
    {
      "cell_type": "code",
      "metadata": {
        "id": "V7DKmecSltC5"
      },
      "source": [
        "import tensorflow as tf\n",
        "from keras.preprocessing.image import ImageDataGenerator"
      ],
      "execution_count": null,
      "outputs": []
    },
    {
      "cell_type": "code",
      "metadata": {
        "id": "tQvc-4O9mEGP",
        "outputId": "fd169253-e560-46b3-fc6d-43c21f301770",
        "colab": {
          "base_uri": "https://localhost:8080/",
          "height": 35
        }
      },
      "source": [
        "tf.__version__"
      ],
      "execution_count": null,
      "outputs": [
        {
          "output_type": "execute_result",
          "data": {
            "text/plain": [
              "'2.3.1'"
            ]
          },
          "metadata": {
            "tags": []
          },
          "execution_count": 2
        }
      ]
    },
    {
      "cell_type": "markdown",
      "metadata": {
        "id": "oxQxCBWyoGPE"
      },
      "source": [
        "## Part 1 - Data Preprocessing"
      ]
    },
    {
      "cell_type": "markdown",
      "metadata": {
        "id": "MvE-heJNo3GG"
      },
      "source": [
        "### Preprocessing the Training set"
      ]
    },
    {
      "cell_type": "code",
      "metadata": {
        "id": "nSWM4ZOCmVMr",
        "outputId": "b4c28782-942a-4a79-bf17-fd47c45a23cc"
      },
      "source": [
        "train_datagen = ImageDataGenerator(\n",
        "        rescale=1./255,\n",
        "        shear_range=0.2,\n",
        "        zoom_range=0.2,\n",
        "        horizontal_flip=True)\n",
        "training_set = train_datagen.flow_from_directory(\n",
        "        'dataset/training_set',\n",
        "        target_size=(64, 64),\n",
        "        batch_size=32,\n",
        "        class_mode='binary')"
      ],
      "execution_count": null,
      "outputs": [
        {
          "output_type": "stream",
          "text": [
            "Found 8000 images belonging to 2 classes.\n"
          ],
          "name": "stdout"
        }
      ]
    },
    {
      "cell_type": "markdown",
      "metadata": {
        "id": "mrCMmGw9pHys"
      },
      "source": [
        "### Preprocessing the Test set"
      ]
    },
    {
      "cell_type": "code",
      "metadata": {
        "id": "IW9cGIO5qH21",
        "outputId": "0e33850a-62ef-4104-8678-e72e6c214258"
      },
      "source": [
        "test_datagen = ImageDataGenerator(rescale=1./255)\n",
        "test_set = test_datagen.flow_from_directory(\n",
        "        'dataset/test_set',\n",
        "        target_size=(64, 64),\n",
        "        batch_size=32,\n",
        "        class_mode='binary')"
      ],
      "execution_count": null,
      "outputs": [
        {
          "output_type": "stream",
          "text": [
            "Found 2000 images belonging to 2 classes.\n"
          ],
          "name": "stdout"
        }
      ]
    },
    {
      "cell_type": "markdown",
      "metadata": {
        "id": "af8O4l90gk7B"
      },
      "source": [
        "## Part 2 - Building the CNN"
      ]
    },
    {
      "cell_type": "markdown",
      "metadata": {
        "id": "ces1gXY2lmoX"
      },
      "source": [
        "### Initialising the CNN"
      ]
    },
    {
      "cell_type": "code",
      "metadata": {
        "id": "sIRz9o-kbPah"
      },
      "source": [
        "cnn = tf.keras.models.Sequential()"
      ],
      "execution_count": null,
      "outputs": []
    },
    {
      "cell_type": "markdown",
      "metadata": {
        "id": "u5YJj_XMl5LF"
      },
      "source": [
        "### Step 1 - Convolution"
      ]
    },
    {
      "cell_type": "code",
      "metadata": {
        "id": "_eIjuaCWdCG_"
      },
      "source": [
        "cnn.add(tf.keras.layers.Conv2D(filters=32, kernel_size=3, activation='relu', input_shape=[64, 64, 3]))"
      ],
      "execution_count": null,
      "outputs": []
    },
    {
      "cell_type": "markdown",
      "metadata": {
        "id": "tf87FpvxmNOJ"
      },
      "source": [
        "### Step 2 - Pooling"
      ]
    },
    {
      "cell_type": "code",
      "metadata": {
        "id": "2v6Cmu_bgo-B"
      },
      "source": [
        "cnn.add(tf.keras.layers.MaxPool2D(pool_size=2, strides=2))"
      ],
      "execution_count": null,
      "outputs": []
    },
    {
      "cell_type": "markdown",
      "metadata": {
        "id": "xaTOgD8rm4mU"
      },
      "source": [
        "### Adding a second convolutional layer"
      ]
    },
    {
      "cell_type": "code",
      "metadata": {
        "id": "VLniLpmuirVH"
      },
      "source": [
        "cnn.add(tf.keras.layers.Conv2D(filters=32, kernel_size=3, activation='relu'))\n",
        "cnn.add(tf.keras.layers.MaxPool2D(pool_size=2, strides=2))"
      ],
      "execution_count": null,
      "outputs": []
    },
    {
      "cell_type": "markdown",
      "metadata": {
        "id": "tmiEuvTunKfk"
      },
      "source": [
        "### Step 3 - Flattening"
      ]
    },
    {
      "cell_type": "code",
      "metadata": {
        "id": "HqZJRI2Fi-wU"
      },
      "source": [
        "cnn.add(tf.keras.layers.Flatten())"
      ],
      "execution_count": null,
      "outputs": []
    },
    {
      "cell_type": "markdown",
      "metadata": {
        "id": "dAoSECOm203v"
      },
      "source": [
        "### Step 4 - Full Connection"
      ]
    },
    {
      "cell_type": "code",
      "metadata": {
        "id": "2l9k2HkhjRtM"
      },
      "source": [
        "cnn.add(tf.keras.layers.Dense(units=128, activation='relu'))"
      ],
      "execution_count": null,
      "outputs": []
    },
    {
      "cell_type": "markdown",
      "metadata": {
        "id": "yTldFvbX28Na"
      },
      "source": [
        "### Step 5 - Output Layer"
      ]
    },
    {
      "cell_type": "code",
      "metadata": {
        "id": "R6g-zmaqj1Nl"
      },
      "source": [
        "cnn.add(tf.keras.layers.Dense(units=1, activation='sigmoid'))"
      ],
      "execution_count": null,
      "outputs": []
    },
    {
      "cell_type": "markdown",
      "metadata": {
        "id": "D6XkI90snSDl"
      },
      "source": [
        "## Part 3 - Training the CNN"
      ]
    },
    {
      "cell_type": "markdown",
      "metadata": {
        "id": "vfrFQACEnc6i"
      },
      "source": [
        "### Compiling the CNN"
      ]
    },
    {
      "cell_type": "code",
      "metadata": {
        "id": "7d1UXyx2o9pV"
      },
      "source": [
        "cnn.compile(optimizer='adam', loss='binary_crossentropy', metrics=['accuracy'])"
      ],
      "execution_count": null,
      "outputs": []
    },
    {
      "cell_type": "markdown",
      "metadata": {
        "id": "ehS-v3MIpX2h"
      },
      "source": [
        "### Training the CNN on the Training set and evaluating it on the Test set"
      ]
    },
    {
      "cell_type": "code",
      "metadata": {
        "id": "vjowGVyTuNX_",
        "outputId": "fd1d1c43-db9e-4cee-9ce8-c445d790a0b2"
      },
      "source": [
        "cnn.fit(x = training_set, validation_data = test_set, epochs = 25)"
      ],
      "execution_count": null,
      "outputs": [
        {
          "output_type": "stream",
          "text": [
            "Epoch 1/25\n",
            "250/250 [==============================] - 113s 451ms/step - loss: 0.6785 - accuracy: 0.5738 - val_loss: 0.6325 - val_accuracy: 0.6340\n",
            "Epoch 2/25\n",
            "250/250 [==============================] - 59s 237ms/step - loss: 0.6054 - accuracy: 0.6758 - val_loss: 0.5674 - val_accuracy: 0.7265\n",
            "Epoch 3/25\n",
            "250/250 [==============================] - 56s 225ms/step - loss: 0.5623 - accuracy: 0.7072 - val_loss: 0.5403 - val_accuracy: 0.7250\n",
            "Epoch 4/25\n",
            "250/250 [==============================] - 55s 220ms/step - loss: 0.5374 - accuracy: 0.7256 - val_loss: 0.5862 - val_accuracy: 0.6995\n",
            "Epoch 5/25\n",
            "250/250 [==============================] - 59s 237ms/step - loss: 0.5125 - accuracy: 0.7452 - val_loss: 0.5343 - val_accuracy: 0.7230\n",
            "Epoch 6/25\n",
            "250/250 [==============================] - 53s 214ms/step - loss: 0.4959 - accuracy: 0.7615 - val_loss: 0.4822 - val_accuracy: 0.7640\n",
            "Epoch 7/25\n",
            "250/250 [==============================] - 53s 214ms/step - loss: 0.4890 - accuracy: 0.7611 - val_loss: 0.5429 - val_accuracy: 0.7360\n",
            "Epoch 8/25\n",
            "250/250 [==============================] - 54s 215ms/step - loss: 0.4803 - accuracy: 0.7728 - val_loss: 0.4770 - val_accuracy: 0.7695\n",
            "Epoch 9/25\n",
            "250/250 [==============================] - 55s 218ms/step - loss: 0.4613 - accuracy: 0.7770 - val_loss: 0.4788 - val_accuracy: 0.7750\n",
            "Epoch 10/25\n",
            "250/250 [==============================] - 53s 213ms/step - loss: 0.4507 - accuracy: 0.7874 - val_loss: 0.4805 - val_accuracy: 0.7745\n",
            "Epoch 11/25\n",
            "250/250 [==============================] - 56s 223ms/step - loss: 0.4457 - accuracy: 0.7903 - val_loss: 0.4762 - val_accuracy: 0.7735\n",
            "Epoch 12/25\n",
            "250/250 [==============================] - 50s 201ms/step - loss: 0.4206 - accuracy: 0.8023 - val_loss: 0.4694 - val_accuracy: 0.7815\n",
            "Epoch 13/25\n",
            "250/250 [==============================] - 51s 203ms/step - loss: 0.4174 - accuracy: 0.8040 - val_loss: 0.4407 - val_accuracy: 0.8060\n",
            "Epoch 14/25\n",
            "250/250 [==============================] - 50s 201ms/step - loss: 0.4063 - accuracy: 0.8165 - val_loss: 0.4802 - val_accuracy: 0.7830\n",
            "Epoch 15/25\n",
            "250/250 [==============================] - 51s 203ms/step - loss: 0.3987 - accuracy: 0.8180 - val_loss: 0.4933 - val_accuracy: 0.7745\n",
            "Epoch 16/25\n",
            "250/250 [==============================] - 51s 204ms/step - loss: 0.3878 - accuracy: 0.8211 - val_loss: 0.4652 - val_accuracy: 0.7980\n",
            "Epoch 17/25\n",
            "250/250 [==============================] - 52s 209ms/step - loss: 0.3746 - accuracy: 0.8284 - val_loss: 0.4493 - val_accuracy: 0.8035\n",
            "Epoch 18/25\n",
            "250/250 [==============================] - 50s 201ms/step - loss: 0.3773 - accuracy: 0.8281 - val_loss: 0.4730 - val_accuracy: 0.7930\n",
            "Epoch 19/25\n",
            "250/250 [==============================] - 53s 212ms/step - loss: 0.3615 - accuracy: 0.8374 - val_loss: 0.4861 - val_accuracy: 0.7850\n",
            "Epoch 20/25\n",
            "250/250 [==============================] - 56s 223ms/step - loss: 0.3512 - accuracy: 0.8421 - val_loss: 0.4411 - val_accuracy: 0.7990\n",
            "Epoch 21/25\n",
            "250/250 [==============================] - 63s 254ms/step - loss: 0.3448 - accuracy: 0.8434 - val_loss: 0.5185 - val_accuracy: 0.7810\n",
            "Epoch 22/25\n",
            "250/250 [==============================] - 59s 235ms/step - loss: 0.3474 - accuracy: 0.8481 - val_loss: 0.4473 - val_accuracy: 0.8035\n",
            "Epoch 23/25\n",
            "250/250 [==============================] - 59s 234ms/step - loss: 0.3359 - accuracy: 0.8493 - val_loss: 0.4555 - val_accuracy: 0.8020\n",
            "Epoch 24/25\n",
            "250/250 [==============================] - 51s 204ms/step - loss: 0.3284 - accuracy: 0.8547 - val_loss: 0.4669 - val_accuracy: 0.7885\n",
            "Epoch 25/25\n",
            "250/250 [==============================] - 51s 206ms/step - loss: 0.3244 - accuracy: 0.8539 - val_loss: 0.4714 - val_accuracy: 0.8030\n"
          ],
          "name": "stdout"
        },
        {
          "output_type": "execute_result",
          "data": {
            "text/plain": [
              "<tensorflow.python.keras.callbacks.History at 0x26be385e340>"
            ]
          },
          "metadata": {
            "tags": []
          },
          "execution_count": 15
        }
      ]
    },
    {
      "cell_type": "markdown",
      "metadata": {
        "id": "U3PZasO0006Z"
      },
      "source": [
        "## Part 4 - Making a single prediction"
      ]
    },
    {
      "cell_type": "code",
      "metadata": {
        "id": "Pl6-ZdYhvJJb"
      },
      "source": [
        "import numpy as np\n",
        "from keras.preprocessing import image\n",
        "test_image = image.load_img('dataset/single_prediction/cat_or_dog_3.jpg', target_size = (64, 64))\n",
        "test_image = image.img_to_array(test_image)\n",
        "test_image = np.expand_dims(test_image, axis = 0)\n",
        "result = cnn.predict(test_image)\n",
        "training_set.class_indices\n",
        "if result[0][0] == 1:\n",
        "  prediction = 'dog'\n",
        "else:\n",
        "  prediction = 'cat'"
      ],
      "execution_count": null,
      "outputs": []
    },
    {
      "cell_type": "code",
      "metadata": {
        "id": "E3L6-Ekm0vV6",
        "outputId": "2f30fac1-1253-4664-c6ec-96fccaef3e0c"
      },
      "source": [
        "print(prediction)"
      ],
      "execution_count": null,
      "outputs": [
        {
          "output_type": "stream",
          "text": [
            "dog\n"
          ],
          "name": "stdout"
        }
      ]
    },
    {
      "cell_type": "code",
      "metadata": {
        "id": "Vs6KY5ICamvr"
      },
      "source": [
        ""
      ],
      "execution_count": null,
      "outputs": []
    }
  ]
}